{
 "cells": [
  {
   "cell_type": "code",
   "execution_count": 2,
   "metadata": {},
   "outputs": [],
   "source": [
    "# imports the neccessary python modules\n",
    "import matplotlib as plt\n",
    "%matplotlib inline\n",
    "import pandas as pd\n",
    "import numpy as np\n",
    "import missingno as msno\n",
    "import seaborn as sns"
   ]
  },
  {
   "cell_type": "code",
   "execution_count": 3,
   "metadata": {},
   "outputs": [
    {
     "data": {
      "text/html": [
       "<div>\n",
       "<style scoped>\n",
       "    .dataframe tbody tr th:only-of-type {\n",
       "        vertical-align: middle;\n",
       "    }\n",
       "\n",
       "    .dataframe tbody tr th {\n",
       "        vertical-align: top;\n",
       "    }\n",
       "\n",
       "    .dataframe thead th {\n",
       "        text-align: right;\n",
       "    }\n",
       "</style>\n",
       "<table border=\"1\" class=\"dataframe\">\n",
       "  <thead>\n",
       "    <tr style=\"text-align: right;\">\n",
       "      <th></th>\n",
       "      <th>hash</th>\n",
       "      <th>trajectory_id</th>\n",
       "      <th>time_entry</th>\n",
       "      <th>time_exit</th>\n",
       "      <th>vmax</th>\n",
       "      <th>vmin</th>\n",
       "      <th>vmean</th>\n",
       "      <th>x_entry</th>\n",
       "      <th>y_entry</th>\n",
       "      <th>x_exit</th>\n",
       "      <th>y_exit</th>\n",
       "    </tr>\n",
       "  </thead>\n",
       "  <tbody>\n",
       "    <tr>\n",
       "      <th>0</th>\n",
       "      <td>0000a8602cf2def930488dee7cdad104_1</td>\n",
       "      <td>traj_0000a8602cf2def930488dee7cdad104_1_0</td>\n",
       "      <td>07:04:31</td>\n",
       "      <td>07:08:32</td>\n",
       "      <td>NaN</td>\n",
       "      <td>NaN</td>\n",
       "      <td>NaN</td>\n",
       "      <td>3.751014e+06</td>\n",
       "      <td>-1.909398e+07</td>\n",
       "      <td>3.750326e+06</td>\n",
       "      <td>-1.913634e+07</td>\n",
       "    </tr>\n",
       "    <tr>\n",
       "      <th>1</th>\n",
       "      <td>0000a8602cf2def930488dee7cdad104_1</td>\n",
       "      <td>traj_0000a8602cf2def930488dee7cdad104_1_1</td>\n",
       "      <td>07:20:34</td>\n",
       "      <td>07:25:42</td>\n",
       "      <td>NaN</td>\n",
       "      <td>NaN</td>\n",
       "      <td>NaN</td>\n",
       "      <td>3.743937e+06</td>\n",
       "      <td>-1.932247e+07</td>\n",
       "      <td>3.744975e+06</td>\n",
       "      <td>-1.931966e+07</td>\n",
       "    </tr>\n",
       "    <tr>\n",
       "      <th>2</th>\n",
       "      <td>0000a8602cf2def930488dee7cdad104_1</td>\n",
       "      <td>traj_0000a8602cf2def930488dee7cdad104_1_2</td>\n",
       "      <td>07:53:32</td>\n",
       "      <td>08:03:25</td>\n",
       "      <td>NaN</td>\n",
       "      <td>NaN</td>\n",
       "      <td>NaN</td>\n",
       "      <td>3.744868e+06</td>\n",
       "      <td>-1.929356e+07</td>\n",
       "      <td>3.744816e+06</td>\n",
       "      <td>-1.929284e+07</td>\n",
       "    </tr>\n",
       "    <tr>\n",
       "      <th>3</th>\n",
       "      <td>0000a8602cf2def930488dee7cdad104_1</td>\n",
       "      <td>traj_0000a8602cf2def930488dee7cdad104_1_3</td>\n",
       "      <td>08:17:50</td>\n",
       "      <td>08:37:23</td>\n",
       "      <td>NaN</td>\n",
       "      <td>NaN</td>\n",
       "      <td>NaN</td>\n",
       "      <td>3.744880e+06</td>\n",
       "      <td>-1.929229e+07</td>\n",
       "      <td>3.744809e+06</td>\n",
       "      <td>-1.929049e+07</td>\n",
       "    </tr>\n",
       "    <tr>\n",
       "      <th>4</th>\n",
       "      <td>0000a8602cf2def930488dee7cdad104_1</td>\n",
       "      <td>traj_0000a8602cf2def930488dee7cdad104_1_4</td>\n",
       "      <td>14:38:09</td>\n",
       "      <td>14:38:09</td>\n",
       "      <td>NaN</td>\n",
       "      <td>NaN</td>\n",
       "      <td>NaN</td>\n",
       "      <td>3.744909e+06</td>\n",
       "      <td>-1.928558e+07</td>\n",
       "      <td>3.744909e+06</td>\n",
       "      <td>-1.928558e+07</td>\n",
       "    </tr>\n",
       "  </tbody>\n",
       "</table>\n",
       "</div>"
      ],
      "text/plain": [
       "                                 hash  \\\n",
       "0  0000a8602cf2def930488dee7cdad104_1   \n",
       "1  0000a8602cf2def930488dee7cdad104_1   \n",
       "2  0000a8602cf2def930488dee7cdad104_1   \n",
       "3  0000a8602cf2def930488dee7cdad104_1   \n",
       "4  0000a8602cf2def930488dee7cdad104_1   \n",
       "\n",
       "                               trajectory_id time_entry time_exit  vmax  vmin  \\\n",
       "0  traj_0000a8602cf2def930488dee7cdad104_1_0   07:04:31  07:08:32   NaN   NaN   \n",
       "1  traj_0000a8602cf2def930488dee7cdad104_1_1   07:20:34  07:25:42   NaN   NaN   \n",
       "2  traj_0000a8602cf2def930488dee7cdad104_1_2   07:53:32  08:03:25   NaN   NaN   \n",
       "3  traj_0000a8602cf2def930488dee7cdad104_1_3   08:17:50  08:37:23   NaN   NaN   \n",
       "4  traj_0000a8602cf2def930488dee7cdad104_1_4   14:38:09  14:38:09   NaN   NaN   \n",
       "\n",
       "   vmean       x_entry       y_entry        x_exit        y_exit  \n",
       "0    NaN  3.751014e+06 -1.909398e+07  3.750326e+06 -1.913634e+07  \n",
       "1    NaN  3.743937e+06 -1.932247e+07  3.744975e+06 -1.931966e+07  \n",
       "2    NaN  3.744868e+06 -1.929356e+07  3.744816e+06 -1.929284e+07  \n",
       "3    NaN  3.744880e+06 -1.929229e+07  3.744809e+06 -1.929049e+07  \n",
       "4    NaN  3.744909e+06 -1.928558e+07  3.744909e+06 -1.928558e+07  "
      ]
     },
     "execution_count": 3,
     "metadata": {},
     "output_type": "execute_result"
    }
   ],
   "source": [
    "# reads & stores the train data in a pandas dataframe\n",
    "df_train = pd.read_csv(\"/Users/nialdaly/Documents/ey_nextwave/data/data_train.csv\", index_col=False)\n",
    "\n",
    "# drops first (unneccessary column)\n",
    "df_train = df_train.drop(df_train.columns[0], axis=1)\n",
    "\n",
    "# prints out the top 5 rows\n",
    "df_train.head(5)"
   ]
  },
  {
   "cell_type": "code",
   "execution_count": null,
   "metadata": {},
   "outputs": [],
   "source": []
  },
  {
   "cell_type": "code",
   "execution_count": 3,
   "metadata": {},
   "outputs": [
    {
     "name": "stdout",
     "output_type": "stream",
     "text": [
      "<class 'pandas.core.frame.DataFrame'>\n",
      "RangeIndex: 814262 entries, 0 to 814261\n",
      "Data columns (total 11 columns):\n",
      "hash             814262 non-null object\n",
      "trajectory_id    814262 non-null object\n",
      "time_entry       814262 non-null object\n",
      "time_exit        814262 non-null object\n",
      "vmax             256769 non-null float64\n",
      "vmin             256769 non-null float64\n",
      "vmean            270778 non-null float64\n",
      "x_entry          814262 non-null float64\n",
      "y_entry          814262 non-null float64\n",
      "x_exit           814262 non-null float64\n",
      "y_exit           814262 non-null float64\n",
      "dtypes: float64(7), object(4)\n",
      "memory usage: 68.3+ MB\n"
     ]
    }
   ],
   "source": [
    "# info on the training data\n",
    "df_train.info()"
   ]
  },
  {
   "cell_type": "code",
   "execution_count": 4,
   "metadata": {},
   "outputs": [
    {
     "data": {
      "text/html": [
       "<div>\n",
       "<style scoped>\n",
       "    .dataframe tbody tr th:only-of-type {\n",
       "        vertical-align: middle;\n",
       "    }\n",
       "\n",
       "    .dataframe tbody tr th {\n",
       "        vertical-align: top;\n",
       "    }\n",
       "\n",
       "    .dataframe thead th {\n",
       "        text-align: right;\n",
       "    }\n",
       "</style>\n",
       "<table border=\"1\" class=\"dataframe\">\n",
       "  <thead>\n",
       "    <tr style=\"text-align: right;\">\n",
       "      <th></th>\n",
       "      <th>vmax</th>\n",
       "      <th>vmin</th>\n",
       "      <th>vmean</th>\n",
       "      <th>x_entry</th>\n",
       "      <th>y_entry</th>\n",
       "      <th>x_exit</th>\n",
       "      <th>y_exit</th>\n",
       "    </tr>\n",
       "  </thead>\n",
       "  <tbody>\n",
       "    <tr>\n",
       "      <th>count</th>\n",
       "      <td>256769.000000</td>\n",
       "      <td>256769.000000</td>\n",
       "      <td>270778.000000</td>\n",
       "      <td>8.142620e+05</td>\n",
       "      <td>8.142620e+05</td>\n",
       "      <td>8.142620e+05</td>\n",
       "      <td>8.142620e+05</td>\n",
       "    </tr>\n",
       "    <tr>\n",
       "      <th>mean</th>\n",
       "      <td>2.680249</td>\n",
       "      <td>2.279469</td>\n",
       "      <td>2.454799</td>\n",
       "      <td>3.760411e+06</td>\n",
       "      <td>-1.922153e+07</td>\n",
       "      <td>3.760426e+06</td>\n",
       "      <td>-1.922181e+07</td>\n",
       "    </tr>\n",
       "    <tr>\n",
       "      <th>std</th>\n",
       "      <td>7.591053</td>\n",
       "      <td>7.118452</td>\n",
       "      <td>7.160578</td>\n",
       "      <td>8.974393e+03</td>\n",
       "      <td>7.632234e+04</td>\n",
       "      <td>8.904451e+03</td>\n",
       "      <td>7.515560e+04</td>\n",
       "    </tr>\n",
       "    <tr>\n",
       "      <th>min</th>\n",
       "      <td>-1.000000</td>\n",
       "      <td>-1.000000</td>\n",
       "      <td>-1.000000</td>\n",
       "      <td>3.741027e+06</td>\n",
       "      <td>-1.938291e+07</td>\n",
       "      <td>3.740998e+06</td>\n",
       "      <td>-1.937688e+07</td>\n",
       "    </tr>\n",
       "    <tr>\n",
       "      <th>25%</th>\n",
       "      <td>0.000000</td>\n",
       "      <td>-1.000000</td>\n",
       "      <td>0.000000</td>\n",
       "      <td>3.755174e+06</td>\n",
       "      <td>-1.927454e+07</td>\n",
       "      <td>3.755359e+06</td>\n",
       "      <td>-1.927308e+07</td>\n",
       "    </tr>\n",
       "    <tr>\n",
       "      <th>50%</th>\n",
       "      <td>0.000000</td>\n",
       "      <td>0.000000</td>\n",
       "      <td>0.000000</td>\n",
       "      <td>3.760071e+06</td>\n",
       "      <td>-1.923020e+07</td>\n",
       "      <td>3.760076e+06</td>\n",
       "      <td>-1.923031e+07</td>\n",
       "    </tr>\n",
       "    <tr>\n",
       "      <th>75%</th>\n",
       "      <td>0.500000</td>\n",
       "      <td>0.220000</td>\n",
       "      <td>0.440000</td>\n",
       "      <td>3.767509e+06</td>\n",
       "      <td>-1.916999e+07</td>\n",
       "      <td>3.767455e+06</td>\n",
       "      <td>-1.917193e+07</td>\n",
       "    </tr>\n",
       "    <tr>\n",
       "      <th>max</th>\n",
       "      <td>162.000000</td>\n",
       "      <td>162.000000</td>\n",
       "      <td>162.000000</td>\n",
       "      <td>3.777099e+06</td>\n",
       "      <td>-1.904266e+07</td>\n",
       "      <td>3.777055e+06</td>\n",
       "      <td>-1.904666e+07</td>\n",
       "    </tr>\n",
       "  </tbody>\n",
       "</table>\n",
       "</div>"
      ],
      "text/plain": [
       "                vmax           vmin          vmean       x_entry  \\\n",
       "count  256769.000000  256769.000000  270778.000000  8.142620e+05   \n",
       "mean        2.680249       2.279469       2.454799  3.760411e+06   \n",
       "std         7.591053       7.118452       7.160578  8.974393e+03   \n",
       "min        -1.000000      -1.000000      -1.000000  3.741027e+06   \n",
       "25%         0.000000      -1.000000       0.000000  3.755174e+06   \n",
       "50%         0.000000       0.000000       0.000000  3.760071e+06   \n",
       "75%         0.500000       0.220000       0.440000  3.767509e+06   \n",
       "max       162.000000     162.000000     162.000000  3.777099e+06   \n",
       "\n",
       "            y_entry        x_exit        y_exit  \n",
       "count  8.142620e+05  8.142620e+05  8.142620e+05  \n",
       "mean  -1.922153e+07  3.760426e+06 -1.922181e+07  \n",
       "std    7.632234e+04  8.904451e+03  7.515560e+04  \n",
       "min   -1.938291e+07  3.740998e+06 -1.937688e+07  \n",
       "25%   -1.927454e+07  3.755359e+06 -1.927308e+07  \n",
       "50%   -1.923020e+07  3.760076e+06 -1.923031e+07  \n",
       "75%   -1.916999e+07  3.767455e+06 -1.917193e+07  \n",
       "max   -1.904266e+07  3.777055e+06 -1.904666e+07  "
      ]
     },
     "execution_count": 4,
     "metadata": {},
     "output_type": "execute_result"
    }
   ],
   "source": [
    "# describes the training data\n",
    "df_train.describe()"
   ]
  },
  {
   "cell_type": "markdown",
   "metadata": {},
   "source": [
    "## Assessing Data Quality"
   ]
  },
  {
   "cell_type": "code",
   "execution_count": 5,
   "metadata": {},
   "outputs": [
    {
     "data": {
      "text/plain": [
       "<matplotlib.axes._subplots.AxesSubplot at 0x106f679b0>"
      ]
     },
     "execution_count": 5,
     "metadata": {},
     "output_type": "execute_result"
    },
    {
     "data": {
      "image/png": "[encoded data removed]",
      "text/plain": [
       "<matplotlib.figure.Figure at 0x10e656b70>"
      ]
     },
     "metadata": {},
     "output_type": "display_data"
    }
   ],
   "source": [
    "# white fields indictate NA's\n",
    "msno.matrix(df_train)"
   ]
  },
  {
   "cell_type": "code",
   "execution_count": 6,
   "metadata": {},
   "outputs": [
    {
     "data": {
      "text/plain": [
       "hash                  0\n",
       "trajectory_id         0\n",
       "time_entry            0\n",
       "time_exit             0\n",
       "vmax             557493\n",
       "vmin             557493\n",
       "vmean            543484\n",
       "x_entry               0\n",
       "y_entry               0\n",
       "x_exit                0\n",
       "y_exit                0\n",
       "dtype: int64"
      ]
     },
     "execution_count": 6,
     "metadata": {},
     "output_type": "execute_result"
    }
   ],
   "source": [
    "# identifies the number of null values in each column\n",
    "df_train.isnull().sum()"
   ]
  },
  {
   "cell_type": "markdown",
   "metadata": {},
   "source": [
    "A significant portion of the training data has null values. Simply deleting rows with null values is not suitable in this case."
   ]
  },
  {
   "cell_type": "code",
   "execution_count": 7,
   "metadata": {},
   "outputs": [
    {
     "data": {
      "text/plain": [
       "<matplotlib.axes._subplots.AxesSubplot at 0x11b29c518>"
      ]
     },
     "execution_count": 7,
     "metadata": {},
     "output_type": "execute_result"
    },
    {
     "data": {
      "image/png": "[encoded data removed]",
      "text/plain": [
       "<matplotlib.figure.Figure at 0x11b264710>"
      ]
     },
     "metadata": {},
     "output_type": "display_data"
    }
   ],
   "source": [
    "# correlation matric of missing values\n",
    "msno.heatmap(df_train, figsize=(6,4))"
   ]
  },
  {
   "cell_type": "code",
   "execution_count": 8,
   "metadata": {},
   "outputs": [
    {
     "data": {
      "text/html": [
       "<div>\n",
       "<style scoped>\n",
       "    .dataframe tbody tr th:only-of-type {\n",
       "        vertical-align: middle;\n",
       "    }\n",
       "\n",
       "    .dataframe tbody tr th {\n",
       "        vertical-align: top;\n",
       "    }\n",
       "\n",
       "    .dataframe thead th {\n",
       "        text-align: right;\n",
       "    }\n",
       "</style>\n",
       "<table border=\"1\" class=\"dataframe\">\n",
       "  <thead>\n",
       "    <tr style=\"text-align: right;\">\n",
       "      <th></th>\n",
       "      <th>hash</th>\n",
       "      <th>trajectory_id</th>\n",
       "      <th>time_entry</th>\n",
       "      <th>time_exit</th>\n",
       "      <th>vmax</th>\n",
       "      <th>vmin</th>\n",
       "      <th>vmean</th>\n",
       "      <th>x_entry</th>\n",
       "      <th>y_entry</th>\n",
       "      <th>x_exit</th>\n",
       "      <th>y_exit</th>\n",
       "    </tr>\n",
       "  </thead>\n",
       "  <tbody>\n",
       "  </tbody>\n",
       "</table>\n",
       "</div>"
      ],
      "text/plain": [
       "Empty DataFrame\n",
       "Columns: [hash, trajectory_id, time_entry, time_exit, vmax, vmin, vmean, x_entry, y_entry, x_exit, y_exit]\n",
       "Index: []"
      ]
     },
     "execution_count": 8,
     "metadata": {},
     "output_type": "execute_result"
    }
   ],
   "source": [
    "# identifies duplicate rows\n",
    "df_train[df_train.duplicated(keep=False)]"
   ]
  },
  {
   "cell_type": "code",
   "execution_count": 9,
   "metadata": {},
   "outputs": [
    {
     "data": {
      "text/plain": [
       "Series([], Name: time_entry, dtype: object)"
      ]
     },
     "execution_count": 9,
     "metadata": {},
     "output_type": "execute_result"
    }
   ],
   "source": [
    "# identifies outliers within the time_entry data\n",
    "df_train.time_entry.loc[(df_train.time_entry < '00:00:00') | (df_train.time_entry > '23:59:00')]"
   ]
  },
  {
   "cell_type": "code",
   "execution_count": 10,
   "metadata": {},
   "outputs": [
    {
     "data": {
      "text/plain": [
       "Series([], Name: time_exit, dtype: object)"
      ]
     },
     "execution_count": 10,
     "metadata": {},
     "output_type": "execute_result"
    }
   ],
   "source": [
    "# identifies outliers within the time_exit data\n",
    "df_train.time_exit.loc[(df_train.time_exit < '00:00:00') | (df_train.time_exit > '23:59:00')]"
   ]
  },
  {
   "cell_type": "code",
   "execution_count": 31,
   "metadata": {},
   "outputs": [
    {
     "data": {
      "text/plain": [
       "<matplotlib.axes._subplots.AxesSubplot at 0x11f867da0>"
      ]
     },
     "execution_count": 31,
     "metadata": {},
     "output_type": "execute_result"
    },
    {
     "data": {
      "image/png": "[encoded data removed]",
      "text/plain": [
       "<matplotlib.figure.Figure at 0x11dc7e470>"
      ]
     },
     "metadata": {},
     "output_type": "display_data"
    }
   ],
   "source": [
    "# attempting to identify outliers in the velocity data\n",
    "sns.boxplot(x=df_train['vmin'])"
   ]
  },
  {
   "cell_type": "code",
   "execution_count": 25,
   "metadata": {},
   "outputs": [
    {
     "name": "stderr",
     "output_type": "stream",
     "text": [
      "/Library/Frameworks/Python.framework/Versions/3.6/lib/python3.6/site-packages/scipy/stats/stats.py:1706: FutureWarning: Using a non-tuple sequence for multidimensional indexing is deprecated; use `arr[tuple(seq)]` instead of `arr[seq]`. In the future this will be interpreted as an array index, `arr[np.array(seq)]`, which will result either in an error or a different result.\n",
      "  return np.add.reduce(sorted[indexer] * weights, axis=axis) / sumval\n"
     ]
    },
    {
     "data": {
      "image/png": "[encoded data removed]",
      "text/plain": [
       "<matplotlib.figure.Figure at 0x11ea1b860>"
      ]
     },
     "metadata": {},
     "output_type": "display_data"
    }
   ],
   "source": [
    "# visualises the distribution of the minimum velocities present in the dataset\n",
    "sns.set(color_codes=True)\n",
    "plot = sns.distplot(df_train.vmin.dropna(), color=\"b\")\n",
    "plot.figure.set_size_inches(16,6)"
   ]
  },
  {
   "cell_type": "code",
   "execution_count": 32,
   "metadata": {},
   "outputs": [
    {
     "data": {
      "text/plain": [
       "<matplotlib.axes._subplots.AxesSubplot at 0x11fc3bef0>"
      ]
     },
     "execution_count": 32,
     "metadata": {},
     "output_type": "execute_result"
    },
    {
     "data": {
      "image/png": "[encoded data removed]",
      "text/plain": [
       "<matplotlib.figure.Figure at 0x11f8929e8>"
      ]
     },
     "metadata": {},
     "output_type": "display_data"
    }
   ],
   "source": [
    "# attempting to identify outliers in the velocity data\n",
    "sns.boxplot(x=df_train['vmax'])"
   ]
  },
  {
   "cell_type": "code",
   "execution_count": 26,
   "metadata": {},
   "outputs": [
    {
     "name": "stderr",
     "output_type": "stream",
     "text": [
      "/Library/Frameworks/Python.framework/Versions/3.6/lib/python3.6/site-packages/scipy/stats/stats.py:1706: FutureWarning: Using a non-tuple sequence for multidimensional indexing is deprecated; use `arr[tuple(seq)]` instead of `arr[seq]`. In the future this will be interpreted as an array index, `arr[np.array(seq)]`, which will result either in an error or a different result.\n",
      "  return np.add.reduce(sorted[indexer] * weights, axis=axis) / sumval\n"
     ]
    },
    {
     "data": {
      "image/png": "[encoded data removed]",
      "text/plain": [
       "<matplotlib.figure.Figure at 0x11c7b4240>"
      ]
     },
     "metadata": {},
     "output_type": "display_data"
    }
   ],
   "source": [
    "# visualises the distribution of the maximum velocities present in the dataset\n",
    "sns.set(color_codes=True)\n",
    "plot = sns.distplot(df_train.vmax.dropna(), color=\"r\")\n",
    "plot.figure.set_size_inches(16,6)"
   ]
  },
  {
   "cell_type": "code",
   "execution_count": 33,
   "metadata": {},
   "outputs": [
    {
     "data": {
      "text/plain": [
       "<matplotlib.axes._subplots.AxesSubplot at 0x11f892c18>"
      ]
     },
     "execution_count": 33,
     "metadata": {},
     "output_type": "execute_result"
    },
    {
     "data": {
      "image/png": "[encoded data removed]",
      "text/plain": [
       "<matplotlib.figure.Figure at 0x11ea0a128>"
      ]
     },
     "metadata": {},
     "output_type": "display_data"
    }
   ],
   "source": [
    "# attempting to identify outliers in the velocity data\n",
    "sns.boxplot(x=df_train['vmean'])"
   ]
  },
  {
   "cell_type": "code",
   "execution_count": 27,
   "metadata": {},
   "outputs": [
    {
     "name": "stderr",
     "output_type": "stream",
     "text": [
      "/Library/Frameworks/Python.framework/Versions/3.6/lib/python3.6/site-packages/scipy/stats/stats.py:1706: FutureWarning: Using a non-tuple sequence for multidimensional indexing is deprecated; use `arr[tuple(seq)]` instead of `arr[seq]`. In the future this will be interpreted as an array index, `arr[np.array(seq)]`, which will result either in an error or a different result.\n",
      "  return np.add.reduce(sorted[indexer] * weights, axis=axis) / sumval\n"
     ]
    },
    {
     "data": {
      "image/png": "[encoded data removed]",
      "text/plain": [
       "<matplotlib.figure.Figure at 0x11e1c52e8>"
      ]
     },
     "metadata": {},
     "output_type": "display_data"
    }
   ],
   "source": [
    "# visualises the distribution of the mean velocities present in the dataset\n",
    "sns.set(color_codes=True)\n",
    "plot = sns.distplot(df_train.vmean.dropna(), color=\"g\")\n",
    "plot.figure.set_size_inches(16,6)"
   ]
  },
  {
   "cell_type": "code",
   "execution_count": null,
   "metadata": {},
   "outputs": [],
   "source": []
  },
  {
   "cell_type": "markdown",
   "metadata": {},
   "source": [
    "## Trend Analysis"
   ]
  },
  {
   "cell_type": "code",
   "execution_count": null,
   "metadata": {},
   "outputs": [],
   "source": []
  },
  {
   "cell_type": "code",
   "execution_count": 28,
   "metadata": {},
   "outputs": [],
   "source": [
    "# df_train['hash'].mode()"
   ]
  },
  {
   "cell_type": "code",
   "execution_count": 127,
   "metadata": {},
   "outputs": [
    {
     "name": "stderr",
     "output_type": "stream",
     "text": [
      "/Library/Frameworks/Python.framework/Versions/3.6/lib/python3.6/site-packages/ipykernel_launcher.py:5: SettingWithCopyWarning: \n",
      "A value is trying to be set on a copy of a slice from a DataFrame.\n",
      "Try using .loc[row_indexer,col_indexer] = value instead\n",
      "\n",
      "See the caveats in the documentation: http://pandas.pydata.org/pandas-docs/stable/indexing.html#indexing-view-versus-copy\n",
      "  \"\"\"\n"
     ]
    },
    {
     "data": {
      "text/html": [
       "<div>\n",
       "<style scoped>\n",
       "    .dataframe tbody tr th:only-of-type {\n",
       "        vertical-align: middle;\n",
       "    }\n",
       "\n",
       "    .dataframe tbody tr th {\n",
       "        vertical-align: top;\n",
       "    }\n",
       "\n",
       "    .dataframe thead th {\n",
       "        text-align: right;\n",
       "    }\n",
       "</style>\n",
       "<table border=\"1\" class=\"dataframe\">\n",
       "  <thead>\n",
       "    <tr style=\"text-align: right;\">\n",
       "      <th></th>\n",
       "      <th>Unnamed: 0</th>\n",
       "      <th>hash</th>\n",
       "      <th>trajectory_id</th>\n",
       "      <th>time_entry</th>\n",
       "      <th>time_exit</th>\n",
       "      <th>vmax</th>\n",
       "      <th>vmin</th>\n",
       "      <th>vmean</th>\n",
       "      <th>x_entry</th>\n",
       "      <th>y_entry</th>\n",
       "      <th>x_exit</th>\n",
       "      <th>y_exit</th>\n",
       "      <th>city_center</th>\n",
       "    </tr>\n",
       "  </thead>\n",
       "  <tbody>\n",
       "    <tr>\n",
       "      <th>5</th>\n",
       "      <td>5</td>\n",
       "      <td>0000a8602cf2def930488dee7cdad104_1</td>\n",
       "      <td>traj_0000a8602cf2def930488dee7cdad104_1_5</td>\n",
       "      <td>15:02:31</td>\n",
       "      <td>15:18:33</td>\n",
       "      <td>NaN</td>\n",
       "      <td>NaN</td>\n",
       "      <td>NaN</td>\n",
       "      <td>3.744945e+06</td>\n",
       "      <td>-1.928183e+07</td>\n",
       "      <td>3.744785e+06</td>\n",
       "      <td>-1.928148e+07</td>\n",
       "      <td>0</td>\n",
       "    </tr>\n",
       "    <tr>\n",
       "      <th>9</th>\n",
       "      <td>9</td>\n",
       "      <td>0000cf177130469eeac79f67b6bcf3df_9</td>\n",
       "      <td>traj_0000cf177130469eeac79f67b6bcf3df_9_3</td>\n",
       "      <td>15:00:32</td>\n",
       "      <td>15:29:48</td>\n",
       "      <td>1.149404</td>\n",
       "      <td>1.149404</td>\n",
       "      <td>1.149404</td>\n",
       "      <td>3.749088e+06</td>\n",
       "      <td>-1.926605e+07</td>\n",
       "      <td>3.749610e+06</td>\n",
       "      <td>-1.926594e+07</td>\n",
       "      <td>0</td>\n",
       "    </tr>\n",
       "    <tr>\n",
       "      <th>20</th>\n",
       "      <td>20</td>\n",
       "      <td>0002124248b0ca510dea42824723ccac_31</td>\n",
       "      <td>traj_0002124248b0ca510dea42824723ccac_31_10</td>\n",
       "      <td>15:28:54</td>\n",
       "      <td>15:28:54</td>\n",
       "      <td>NaN</td>\n",
       "      <td>NaN</td>\n",
       "      <td>NaN</td>\n",
       "      <td>3.767866e+06</td>\n",
       "      <td>-1.917797e+07</td>\n",
       "      <td>3.767866e+06</td>\n",
       "      <td>-1.917797e+07</td>\n",
       "      <td>1</td>\n",
       "    </tr>\n",
       "    <tr>\n",
       "      <th>28</th>\n",
       "      <td>28</td>\n",
       "      <td>000219c2a6380c307e8bffd85b5e404b_23</td>\n",
       "      <td>traj_000219c2a6380c307e8bffd85b5e404b_23_16</td>\n",
       "      <td>15:08:05</td>\n",
       "      <td>15:08:05</td>\n",
       "      <td>NaN</td>\n",
       "      <td>NaN</td>\n",
       "      <td>NaN</td>\n",
       "      <td>3.747641e+06</td>\n",
       "      <td>-1.922695e+07</td>\n",
       "      <td>3.747641e+06</td>\n",
       "      <td>-1.922695e+07</td>\n",
       "      <td>0</td>\n",
       "    </tr>\n",
       "    <tr>\n",
       "      <th>38</th>\n",
       "      <td>38</td>\n",
       "      <td>0002e7384d78cd2c2395f63e4b369f40_23</td>\n",
       "      <td>traj_0002e7384d78cd2c2395f63e4b369f40_23_14</td>\n",
       "      <td>15:25:21</td>\n",
       "      <td>15:25:21</td>\n",
       "      <td>NaN</td>\n",
       "      <td>NaN</td>\n",
       "      <td>NaN</td>\n",
       "      <td>3.775402e+06</td>\n",
       "      <td>-1.917662e+07</td>\n",
       "      <td>3.775402e+06</td>\n",
       "      <td>-1.917662e+07</td>\n",
       "      <td>0</td>\n",
       "    </tr>\n",
       "  </tbody>\n",
       "</table>\n",
       "</div>"
      ],
      "text/plain": [
       "    Unnamed: 0                                 hash  \\\n",
       "5            5   0000a8602cf2def930488dee7cdad104_1   \n",
       "9            9   0000cf177130469eeac79f67b6bcf3df_9   \n",
       "20          20  0002124248b0ca510dea42824723ccac_31   \n",
       "28          28  000219c2a6380c307e8bffd85b5e404b_23   \n",
       "38          38  0002e7384d78cd2c2395f63e4b369f40_23   \n",
       "\n",
       "                                  trajectory_id time_entry time_exit  \\\n",
       "5     traj_0000a8602cf2def930488dee7cdad104_1_5   15:02:31  15:18:33   \n",
       "9     traj_0000cf177130469eeac79f67b6bcf3df_9_3   15:00:32  15:29:48   \n",
       "20  traj_0002124248b0ca510dea42824723ccac_31_10   15:28:54  15:28:54   \n",
       "28  traj_000219c2a6380c307e8bffd85b5e404b_23_16   15:08:05  15:08:05   \n",
       "38  traj_0002e7384d78cd2c2395f63e4b369f40_23_14   15:25:21  15:25:21   \n",
       "\n",
       "        vmax      vmin     vmean       x_entry       y_entry        x_exit  \\\n",
       "5        NaN       NaN       NaN  3.744945e+06 -1.928183e+07  3.744785e+06   \n",
       "9   1.149404  1.149404  1.149404  3.749088e+06 -1.926605e+07  3.749610e+06   \n",
       "20       NaN       NaN       NaN  3.767866e+06 -1.917797e+07  3.767866e+06   \n",
       "28       NaN       NaN       NaN  3.747641e+06 -1.922695e+07  3.747641e+06   \n",
       "38       NaN       NaN       NaN  3.775402e+06 -1.917662e+07  3.775402e+06   \n",
       "\n",
       "          y_exit  city_center  \n",
       "5  -1.928148e+07            0  \n",
       "9  -1.926594e+07            0  \n",
       "20 -1.917797e+07            1  \n",
       "28 -1.922695e+07            0  \n",
       "38 -1.917662e+07            0  "
      ]
     },
     "execution_count": 127,
     "metadata": {},
     "output_type": "execute_result"
    }
   ],
   "source": [
    "# implements the rule that outlines the limits of the city center of Atlanta\n",
    "df_train['city_center'] = np.where(\n",
    "    (df_train['x_exit'] >= 3750901.5068) & (df_train['x_exit'] <= 3770901.5068) \n",
    "                             \n",
    "                             , 1, 0)\n",
    "\n",
    "df_train.head()"
   ]
  },
  {
   "cell_type": "code",
   "execution_count": 128,
   "metadata": {},
   "outputs": [
    {
     "data": {
      "text/html": [
       "<div>\n",
       "<style scoped>\n",
       "    .dataframe tbody tr th:only-of-type {\n",
       "        vertical-align: middle;\n",
       "    }\n",
       "\n",
       "    .dataframe tbody tr th {\n",
       "        vertical-align: top;\n",
       "    }\n",
       "\n",
       "    .dataframe thead th {\n",
       "        text-align: right;\n",
       "    }\n",
       "</style>\n",
       "<table border=\"1\" class=\"dataframe\">\n",
       "  <thead>\n",
       "    <tr style=\"text-align: right;\">\n",
       "      <th></th>\n",
       "      <th>Unnamed: 0</th>\n",
       "      <th>hash</th>\n",
       "      <th>trajectory_id</th>\n",
       "      <th>time_entry</th>\n",
       "      <th>time_exit</th>\n",
       "      <th>vmax</th>\n",
       "      <th>vmin</th>\n",
       "      <th>vmean</th>\n",
       "      <th>x_entry</th>\n",
       "      <th>y_entry</th>\n",
       "      <th>x_exit</th>\n",
       "      <th>y_exit</th>\n",
       "      <th>city_center</th>\n",
       "    </tr>\n",
       "  </thead>\n",
       "  <tbody>\n",
       "    <tr>\n",
       "      <th>5</th>\n",
       "      <td>5</td>\n",
       "      <td>0000a8602cf2def930488dee7cdad104_1</td>\n",
       "      <td>traj_0000a8602cf2def930488dee7cdad104_1_5</td>\n",
       "      <td>15:02:31</td>\n",
       "      <td>15:18:33</td>\n",
       "      <td>NaN</td>\n",
       "      <td>NaN</td>\n",
       "      <td>NaN</td>\n",
       "      <td>3.744945e+06</td>\n",
       "      <td>-1.928183e+07</td>\n",
       "      <td>3.744785e+06</td>\n",
       "      <td>-1.928148e+07</td>\n",
       "      <td>0</td>\n",
       "    </tr>\n",
       "    <tr>\n",
       "      <th>9</th>\n",
       "      <td>9</td>\n",
       "      <td>0000cf177130469eeac79f67b6bcf3df_9</td>\n",
       "      <td>traj_0000cf177130469eeac79f67b6bcf3df_9_3</td>\n",
       "      <td>15:00:32</td>\n",
       "      <td>15:29:48</td>\n",
       "      <td>1.149404</td>\n",
       "      <td>1.149404</td>\n",
       "      <td>1.149404</td>\n",
       "      <td>3.749088e+06</td>\n",
       "      <td>-1.926605e+07</td>\n",
       "      <td>3.749610e+06</td>\n",
       "      <td>-1.926594e+07</td>\n",
       "      <td>0</td>\n",
       "    </tr>\n",
       "    <tr>\n",
       "      <th>20</th>\n",
       "      <td>20</td>\n",
       "      <td>0002124248b0ca510dea42824723ccac_31</td>\n",
       "      <td>traj_0002124248b0ca510dea42824723ccac_31_10</td>\n",
       "      <td>15:28:54</td>\n",
       "      <td>15:28:54</td>\n",
       "      <td>NaN</td>\n",
       "      <td>NaN</td>\n",
       "      <td>NaN</td>\n",
       "      <td>3.767866e+06</td>\n",
       "      <td>-1.917797e+07</td>\n",
       "      <td>3.767866e+06</td>\n",
       "      <td>-1.917797e+07</td>\n",
       "      <td>1</td>\n",
       "    </tr>\n",
       "    <tr>\n",
       "      <th>28</th>\n",
       "      <td>28</td>\n",
       "      <td>000219c2a6380c307e8bffd85b5e404b_23</td>\n",
       "      <td>traj_000219c2a6380c307e8bffd85b5e404b_23_16</td>\n",
       "      <td>15:08:05</td>\n",
       "      <td>15:08:05</td>\n",
       "      <td>NaN</td>\n",
       "      <td>NaN</td>\n",
       "      <td>NaN</td>\n",
       "      <td>3.747641e+06</td>\n",
       "      <td>-1.922695e+07</td>\n",
       "      <td>3.747641e+06</td>\n",
       "      <td>-1.922695e+07</td>\n",
       "      <td>0</td>\n",
       "    </tr>\n",
       "    <tr>\n",
       "      <th>38</th>\n",
       "      <td>38</td>\n",
       "      <td>0002e7384d78cd2c2395f63e4b369f40_23</td>\n",
       "      <td>traj_0002e7384d78cd2c2395f63e4b369f40_23_14</td>\n",
       "      <td>15:25:21</td>\n",
       "      <td>15:25:21</td>\n",
       "      <td>NaN</td>\n",
       "      <td>NaN</td>\n",
       "      <td>NaN</td>\n",
       "      <td>3.775402e+06</td>\n",
       "      <td>-1.917662e+07</td>\n",
       "      <td>3.775402e+06</td>\n",
       "      <td>-1.917662e+07</td>\n",
       "      <td>0</td>\n",
       "    </tr>\n",
       "  </tbody>\n",
       "</table>\n",
       "</div>"
      ],
      "text/plain": [
       "    Unnamed: 0                                 hash  \\\n",
       "5            5   0000a8602cf2def930488dee7cdad104_1   \n",
       "9            9   0000cf177130469eeac79f67b6bcf3df_9   \n",
       "20          20  0002124248b0ca510dea42824723ccac_31   \n",
       "28          28  000219c2a6380c307e8bffd85b5e404b_23   \n",
       "38          38  0002e7384d78cd2c2395f63e4b369f40_23   \n",
       "\n",
       "                                  trajectory_id time_entry time_exit  \\\n",
       "5     traj_0000a8602cf2def930488dee7cdad104_1_5   15:02:31  15:18:33   \n",
       "9     traj_0000cf177130469eeac79f67b6bcf3df_9_3   15:00:32  15:29:48   \n",
       "20  traj_0002124248b0ca510dea42824723ccac_31_10   15:28:54  15:28:54   \n",
       "28  traj_000219c2a6380c307e8bffd85b5e404b_23_16   15:08:05  15:08:05   \n",
       "38  traj_0002e7384d78cd2c2395f63e4b369f40_23_14   15:25:21  15:25:21   \n",
       "\n",
       "        vmax      vmin     vmean       x_entry       y_entry        x_exit  \\\n",
       "5        NaN       NaN       NaN  3.744945e+06 -1.928183e+07  3.744785e+06   \n",
       "9   1.149404  1.149404  1.149404  3.749088e+06 -1.926605e+07  3.749610e+06   \n",
       "20       NaN       NaN       NaN  3.767866e+06 -1.917797e+07  3.767866e+06   \n",
       "28       NaN       NaN       NaN  3.747641e+06 -1.922695e+07  3.747641e+06   \n",
       "38       NaN       NaN       NaN  3.775402e+06 -1.917662e+07  3.775402e+06   \n",
       "\n",
       "          y_exit  city_center  \n",
       "5  -1.928148e+07            0  \n",
       "9  -1.926594e+07            0  \n",
       "20 -1.917797e+07            1  \n",
       "28 -1.922695e+07            0  \n",
       "38 -1.917662e+07            0  "
      ]
     },
     "execution_count": 128,
     "metadata": {},
     "output_type": "execute_result"
    }
   ],
   "source": [
    "# all records between 3 and 4pm\n",
    "df_train = df_train[(df_train['time_entry'] >= '15:00:00') & (df_train['time_exit'] <= '16:00:00')]\n",
    "\n",
    "df_train.head()"
   ]
  },
  {
   "cell_type": "code",
   "execution_count": null,
   "metadata": {},
   "outputs": [],
   "source": []
  }
 ],
 "metadata": {
  "kernelspec": {
   "display_name": "Python 3",
   "language": "python",
   "name": "python3"
  },
  "language_info": {
   "codemirror_mode": {
    "name": "ipython",
    "version": 3
   },
   "file_extension": ".py",
   "mimetype": "text/x-python",
   "name": "python",
   "nbconvert_exporter": "python",
   "pygments_lexer": "ipython3",
   "version": "3.6.4"
  }
 },
 "nbformat": 4,
 "nbformat_minor": 2
}
